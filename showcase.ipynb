{
 "cells": [
  {
   "cell_type": "code",
   "execution_count": 8,
   "metadata": {},
   "outputs": [],
   "source": [
    "\n",
    "import tensorflow as tf\n",
    "import math\n",
    "import numpy as np\n",
    "import read_data\n",
    "from sklearn.model_selection import train_test_split"
   ]
  },
  {
   "cell_type": "code",
   "execution_count": 9,
   "metadata": {},
   "outputs": [],
   "source": [
    "def angular_err(v1, v2):\n",
    "\tv1xv2 = tf.reduce_sum(v1*v2,1)\n",
    "\tv1_len = tf.cast(tf.sqrt(tf.reduce_sum(tf.square(v1), 1)),dtype=tf.float32)\n",
    "\tv2_len = tf.cast(tf.sqrt(tf.reduce_sum(tf.square(v2), 1)),dtype=tf.float32)\n",
    "\t\n",
    "\tval = tf.minimum( v1xv2/((v1_len* v2_len ) + 1e-10), 0.999999)\n",
    " \n",
    "\tdegree = tf.acos(val)\n",
    "\treturn degree * 180/ math.pi"
   ]
  },
  {
   "cell_type": "code",
   "execution_count": 10,
   "metadata": {},
   "outputs": [],
   "source": [
    "class FARE_Net:\n",
    "    \n",
    "    def __angular_err(self, v1, v2):\n",
    "        v1xv2 = tf.reduce_sum(v1*v2,1)\n",
    "        v1_len = tf.cast(tf.sqrt(tf.reduce_sum(tf.square(v1), 1)),dtype=tf.float32)\n",
    "        v2_len = tf.cast(tf.sqrt(tf.reduce_sum(tf.square(v2), 1)),dtype=tf.float32)\n",
    "        \n",
    "        val = tf.minimum( v1xv2/((v1_len* v2_len ) + 1e-10), 0.999999)\n",
    "    \n",
    "        degree = tf.acos(val)\n",
    "        return degree * 180/ math.pi\n",
    "    \n",
    "    def __init__(self, far_net_model_path, e_net_model_path):\n",
    "        self.far_net = tf.keras.models.load_model(far_net_model_path)\n",
    "        self.e_net = tf.keras.models.load_model(e_net_model_path)\n",
    "        \n",
    "    def predict(self, data) :\n",
    "        gaze_directions = self.far_net(data)\n",
    "        probabilities = self.e_net(data[0:2])\n",
    "        \n",
    "        choosed_gaze = []\n",
    "        choosed = []\n",
    "        \n",
    "        for i, prob in enumerate(probabilities):\n",
    "            if prob[0] <= prob[1]:\n",
    "                choosed_gaze.append(gaze_directions[i][:3])\n",
    "                choosed.append(\"Left\")\n",
    "            else :\n",
    "                choosed_gaze.append(gaze_directions[i][3:])\n",
    "                choosed.append(\"Right\")\n",
    "        \n",
    "        return choosed_gaze, choosed\n",
    "    \n",
    "    def validate(self, data, labels):\n",
    "        print(\"Validating...\")\n",
    "        gazes, chooseds = self.predict(data=data)\n",
    "        \n",
    "        new_labels = []\n",
    "        \n",
    "        for choosed, label in zip(chooseds, labels):\n",
    "            \n",
    "            if choosed == \"Left\" :\n",
    "                new_labels.append(label[:3])\n",
    "            else :\n",
    "                new_labels.append(label[3:])\n",
    "                \n",
    "                \n",
    "        angular_errors = self.__angular_err(gazes, tf.cast(np.array(new_labels, dtype=float), dtype=tf.float32))\n",
    "            \n",
    "        print(f\"Mean Angular Error => {tf.reduce_mean(angular_errors)}\")\n",
    "            "
   ]
  },
  {
   "cell_type": "code",
   "execution_count": 11,
   "metadata": {},
   "outputs": [],
   "source": [
    "l_eye_imgs, r_eye_imgs, face_imgs, labels = read_data.load_subject_data(\"data_subset/original/p07\")\n",
    "# l_eye_imgs, r_eye_imgs, face_imgs, labels = read_data.load_subject_data(\"data_subset/original/p07\")"
   ]
  },
  {
   "cell_type": "code",
   "execution_count": 12,
   "metadata": {},
   "outputs": [],
   "source": [
    "l_eye_train, l_eye_test, r_eye_train, r_eye_test, face_train, face_test, labels_train, labels_test = train_test_split(\n",
    "    l_eye_imgs, r_eye_imgs, face_imgs, labels, test_size=0.2, random_state=42)"
   ]
  },
  {
   "cell_type": "code",
   "execution_count": 13,
   "metadata": {},
   "outputs": [
    {
     "name": "stdout",
     "output_type": "stream",
     "text": [
      "Validating...\n",
      "Mean Angular Error => 11.794445991516113\n",
      "Validating...\n",
      "Mean Angular Error => 11.255156517028809\n"
     ]
    }
   ],
   "source": [
    "fare_net = FARE_Net(e_net_model_path=\"models/enhanced/e_net_model.keras\",far_net_model_path=\"models/enhanced/far_net_model.keras\" )\n",
    "fare_net_ori = FARE_Net(e_net_model_path=\"models/original/e_net_model.keras\",far_net_model_path=\"models/original/far_net_model.keras\" )\n",
    "\n",
    "fare_net.validate(data=[l_eye_test, r_eye_test, face_test],labels=labels)\n",
    "fare_net_ori.validate(data=[l_eye_test, r_eye_test, face_test],labels=labels)"
   ]
  },
  {
   "cell_type": "markdown",
   "metadata": {},
   "source": [
    "Validating...\n",
    "Mean Angular Error => 11.843276023864746  \n",
    "Validating...\n",
    "Mean Angular Error => 11.301008224487305  \n",
    "  \n",
    "Validating...\n",
    "Mean Angular Error => 11.794445991516113  \n",
    "Validating...\n",
    "Mean Angular Error => 11.255156517028809"
   ]
  }
 ],
 "metadata": {
  "kernelspec": {
   "display_name": "Python 3",
   "language": "python",
   "name": "python3"
  },
  "language_info": {
   "codemirror_mode": {
    "name": "ipython",
    "version": 3
   },
   "file_extension": ".py",
   "mimetype": "text/x-python",
   "name": "python",
   "nbconvert_exporter": "python",
   "pygments_lexer": "ipython3",
   "version": "3.9.6"
  }
 },
 "nbformat": 4,
 "nbformat_minor": 2
}
